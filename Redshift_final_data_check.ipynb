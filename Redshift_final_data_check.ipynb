{
 "cells": [
  {
   "cell_type": "code",
   "execution_count": 15,
   "metadata": {
    "editable": true
   },
   "outputs": [
    {
     "name": "stdout",
     "output_type": "stream",
     "text": [
      "The sql extension is already loaded. To reload it, use:\n",
      "  %reload_ext sql\n"
     ]
    }
   ],
   "source": [
    "%load_ext sql\n",
    "import configparser\n",
    "import psycopg2\n",
    "\n",
    "#read in conneciton parameters from config \n",
    "config = configparser.ConfigParser()\n",
    "config.read('dwh.cfg')\n",
    "\n",
    "# Connect to redshift\n",
    "conn = psycopg2.connect(\"host={} dbname={} user={} password={} port={}\".format(*config['CLUSTER'].values()))\n",
    "cur = conn.cursor()"
   ]
  },
  {
   "cell_type": "code",
   "execution_count": 16,
   "metadata": {
    "editable": true
   },
   "outputs": [],
   "source": [
    "#some tests"
   ]
  },
  {
   "cell_type": "code",
   "execution_count": 19,
   "metadata": {
    "editable": true
   },
   "outputs": [
    {
     "name": "stdout",
     "output_type": "stream",
     "text": [
      "(10, '1542292268796', '97', 'paid', 'SOVOZSC12A8C144E73', 'ART0ETO1187B9AB519', '605', 'Lansing-East Lansing, MI', '\"Mozilla/5.0 (X11; Linux x86_64) AppleWebKit/537.36 (KHTML, like Gecko) Chrome/37.0.2062.94 Safari/537.36\"')\n"
     ]
    }
   ],
   "source": [
    "#fact table\n",
    "cur.execute(\"SELECT * from songplay limit 1;\")    \n",
    "row = cur.fetchone()\n",
    "print(row)"
   ]
  },
  {
   "cell_type": "code",
   "execution_count": 17,
   "metadata": {
    "editable": true
   },
   "outputs": [
    {
     "name": "stdout",
     "output_type": "stream",
     "text": [
      "('52', 'Theodore', 'Smith', 'M', 'free')\n"
     ]
    }
   ],
   "source": [
    "#dimension table\n",
    "cur.execute(\"SELECT * from users limit 1;\")    \n",
    "row = cur.fetchone()\n",
    "print(row)"
   ]
  },
  {
   "cell_type": "code",
   "execution_count": 20,
   "metadata": {
    "editable": true
   },
   "outputs": [
    {
     "name": "stdout",
     "output_type": "stream",
     "text": [
      "('SOXFJDA12AB018A684', 'The Light', 'ARHQ1GT1187FB3C046', '2001', 43.83302)\n"
     ]
    }
   ],
   "source": [
    "#dimension table\n",
    "cur.execute(\"SELECT * from song limit 1;\")    \n",
    "row = cur.fetchone()\n",
    "print(row)"
   ]
  },
  {
   "cell_type": "code",
   "execution_count": 21,
   "metadata": {
    "editable": true
   },
   "outputs": [
    {
     "name": "stdout",
     "output_type": "stream",
     "text": [
      "('AR2MIPD1187B9AD547', 'The Silos', 'New York, NY', '40.714550000000003', '-74.00712')\n"
     ]
    }
   ],
   "source": [
    "#dimension table\n",
    "cur.execute(\"SELECT * from artist limit 1;\")    \n",
    "row = cur.fetchone()\n",
    "print(row)"
   ]
  },
  {
   "cell_type": "code",
   "execution_count": 22,
   "metadata": {
    "editable": true
   },
   "outputs": [
    {
     "name": "stdout",
     "output_type": "stream",
     "text": [
      "(datetime.datetime(2018, 11, 5, 1, 40, 40), '1', '5', '45', '11', '2018', '5')\n"
     ]
    }
   ],
   "source": [
    "#dimension table\n",
    "cur.execute(\"SELECT * from time limit 1;\")    \n",
    "row = cur.fetchone()\n",
    "print(row)"
   ]
  }
 ],
 "metadata": {
  "kernelspec": {
   "display_name": "Python 3",
   "language": "python",
   "name": "python3"
  },
  "language_info": {
   "codemirror_mode": {
    "name": "ipython",
    "version": 3
   },
   "file_extension": ".py",
   "mimetype": "text/x-python",
   "name": "python",
   "nbconvert_exporter": "python",
   "pygments_lexer": "ipython3",
   "version": "3.6.3"
  }
 },
 "nbformat": 4,
 "nbformat_minor": 4
}
